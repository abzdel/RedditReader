{
 "cells": [
  {
   "cell_type": "code",
   "execution_count": 1,
   "metadata": {},
   "outputs": [],
   "source": [
    "import requests\n",
    "import pandas as pd\n",
    "import logging"
   ]
  },
  {
   "cell_type": "code",
   "execution_count": 21,
   "metadata": {},
   "outputs": [],
   "source": [
    "# read contents from https://www.reddit.com/r/AskReddit/comments/1f5e6uk/whats_that_one_small_business_local_to_you_that/\n",
    "url = 'https://www.reddit.com/r/AskReddit/comments/1f5e6uk/whats_that_one_small_business_local_to_you_that/.json'\n",
    "\n",
    "# get the json data\n",
    "response = requests.get(url, headers={'User-agent': 'Mozilla/5.0'})\n",
    "data = response.json()"
   ]
  },
  {
   "cell_type": "code",
   "execution_count": 3,
   "metadata": {},
   "outputs": [],
   "source": [
    "title = data[0].get(\"data\").get(\"children\")[0].get(\"data\").get(\"title\") # check for generalizability"
   ]
  },
  {
   "cell_type": "code",
   "execution_count": 4,
   "metadata": {},
   "outputs": [],
   "source": [
    "# https://www.reddit.com/r/AskReddit/comments/1f5e6uk/whats_that_one_small_business_local_to_you_that/"
   ]
  },
  {
   "cell_type": "code",
   "execution_count": 7,
   "metadata": {},
   "outputs": [
    {
     "name": "stdout",
     "output_type": "stream",
     "text": [
      "There's a \"spiritual healing\" place near me but often when I walk by I see rows of people through the window on the second floor all looking like they are monotonously working on something. I have seen people screaming out the window of the place at other people and stuff too which always seemed weird. Based on the logo of the place I thought it was a catering place at first and that they were just mass producing food for events but then I looked into the place more at one point and found that they are some spiritual place that has \"women's healing circles\" and stuff despite the fact that I have never seen a woman there at all, only very old Muslim men.\n",
      "--------------------------------------------------\n",
      "I have a funny story about something like this. \n",
      "\n",
      "I’m a dentist and I buy lunch for our staff quite frequently. One time we bought food from a local Mexican joint. I got a burrito that ended up being mostly meat and it was really good meat. I asked how much it was and it was quite cheap. I immediately assumed it was a money laundering front. \n",
      "\n",
      "Anyways, I was right. \n",
      "\n",
      "https://www.wyomingnews.com/news/local_news/cheyenne-restaurants-implicated-in-mexican-cartel-drug-money-laundering/article_56813fce-3b26-11e9-968b-d39cd324e354.html\n",
      "--------------------------------------------------\n",
      "There is a VCR repair shop near me.  Just vcr repair. There are not enough vcr players in the city to keep that place open.\n",
      "--------------------------------------------------\n",
      "There’s a used car lot across the street from my work that *never* sells any cars. I’ve been working at my job for 5 1/2 years and one, *maybe* two, have left the lot in that entire time.\n",
      "--------------------------------------------------\n",
      "Small town in mountains of North Carolina.  Somehow we had a deli that seemed to be right outta NYC.  All the good brands from back home.  Almost nobody ate there.  I only saw another customer a couple of times.  Great cold cuts, excellent subs.  If you know anything about rural NC, about the only DNA is from the British Isles here.  The guys running the place were as Italian as you could get, and there were always at least three of them at hanging around the deli.  Not doing anything, just sitting in chairs back in the kitchen.  One would reluctantly get up to fix a sandwich when I ordered one.  They were there for years.  I'd love to see what the P&amp;L they showed to the IRS looked like, because I'm certain it showed a thriving business.\n",
      "--------------------------------------------------\n",
      "I used to always go to this little tire shop near my house. Across the parking lot way in the back was another building where they were always working on cars. I needed some brake pads changed, so I drove back there and asked if they would change them. Three guys rushed out there all nervous and weird acting and asked what I wanted. I told them, then they pulled my car in, changed the pads super quick, said \"no charge, goodbye\". And that was that. It was a really weird, eerie experience. Fast forward a couple of weeks and I heard that place got raided by the cops and turned out to be one of the biggest meth dealers in the county.\n",
      "--------------------------------------------------\n",
      "I don’t even have to think it, it’s been proven. I live in Myrtle Beach, so we have (had) a *ton* of discount beachwear stores. You know the ones, where you buy five shirts for ten bucks and they give you a free hermit crab. The P&amp;L models are absolutely mind blowing since rent is crazy expensive and they obviously aren’t turning a huge profit. Turned out that the stores main transactions were illegal wire transfers going overseas. All the old buildings either were bought out by legit businesses, or are being left to urban decay.\n",
      "--------------------------------------------------\n",
      "A locally owned Cafe run by sort of relatives. It's a small, family run and cash only eatery. To my knowledge they still sell their burgers and stuff for like $1.50-$2, so super affordable.\n",
      "\n",
      "The couple that runs it live in a very expensive home and take multiple vacations a year\n",
      "--------------------------------------------------\n",
      "The 846 car wash facilities within a 10mile radius\n",
      "--------------------------------------------------\n",
      "Cell phone case stores.   rent in my city is ridiculously expensive.  How are you operating a cell phone case and refurbished phone store?  \n",
      "\n",
      "The amount of cell phones needed to keep your store open and making a profit has to be in the thousands.\n",
      "--------------------------------------------------\n",
      "A local pizza shop that does a brisk business in some really good pies. According to one of the cops I know it's on the list of businesses they aren't allowed to associate with due to it being involved in money laundering for a biker gang.\n",
      "--------------------------------------------------\n",
      "There was a Chinese restaurant in the area I used to live. It was in a strip mall kind of set up, but the inside looked like you stepped into a Chinese story book. It was beautiful inside, had carved wooden dividers between the booths, and a koi pond in the entrance. It was amazing. The food was incredible but reasonably priced. \n",
      "\n",
      "But there was never more than one or two tables occupied any time we went there. The hostess looked like a porcelain doll, and had the best posture I've ever seen. She was very nice, but I always got the feeling I wasn't exactly welcome. Not in a rude way but in a \"you don't really know what this place is do you\" way. \n",
      "\n",
      "Sometimes a group of Chinese men would come in and be escorted to the back of the restaurant where there was a huge round table, and the doors would be closed. I feel it was either some sort of organized crime front, or a brothel.\n",
      "--------------------------------------------------\n",
      "I worked as a chef in a cafe in Newtown, Sydney back in 2003-2005.  Cash in Hand Job, paid at the end of every day.  it was owned by three Lebanese brothers, who I knew were dodgy in one way or the other but I didn't know how much.  \n",
      "\n",
      "Turns out the cafe was just for money laundering their organized crime syndicate.  I found out when one of the owners, this 6'2 120kg bald brick of man was on the front page of the Daily Telegraph, face down on the ground with a federal cop with a machine gun pressed against the back of his head with the headline \"Career Criminal Caught\"  He had been busted for extortion charges for running a protection racket on Oxford st.\n",
      "\n",
      "[Dude was eventually murdered by a rival gang](https://www.dailytelegraph.com.au/news/nsw/many-people-would-have-wanted-career-criminal-joe-antoun-dead-says-businessman-big-jim-byrnes/news-story/1254c21027d4a53bfd65d5037c33731c) many years later, shot at the doorway of his own home.\n",
      "--------------------------------------------------\n",
      "There’s a guy down the street that sells vacuum cleaners, sometimes people come in really panicking as if their life is on the line. They always come in with a huge duffel bag and leave without it…\n",
      "--------------------------------------------------\n",
      "They shut down a Quiznos by my highschool because they were distributing cocaine out the basement.\n",
      "--------------------------------------------------\n",
      "American candy shops in the UK\n",
      "--------------------------------------------------\n",
      "Ice Cream trucks. Those fuckers aren't making enough off ice cream to drive around a van that gets .3 miles per gallon.\n",
      "--------------------------------------------------\n",
      "There's a Godfather's Pizza in Galveston that always seems to be empty. No ads, not even local as far as I've seen. The couple of times we've gone, they seemed to be surprised by having customers. We got a pizza, and it was great, but it felt sketchy. Anyway, if y'all ever get down to Galveston and want a really good pizza, that Godfather's still tastes the way it used to.\n",
      "--------------------------------------------------\n",
      "I'll add one that I actually got the answer to. \n",
      "\n",
      "There was an Italian restaurant that was gaudy, dingy, and at the busiest intersection of my decently sized city.  It was always sparsely populated. I went after seeing it for 10+ years and the food was pretty good tbh, but nowhere near the amount of people going to make ends meet. Far forward a few years my friend is in sales at Sysco, he informs me that intended it does lose a ton of money, but they have a downtown location in a major city nearby that supports it. It was the original location built by the dad and the two daughters who run it now both don't have the heart to let it go as they're still making money. During COVID they finally did close it, but it had been a running joke in my family since 98 that it was a front.\n",
      "--------------------------------------------------\n",
      "We have Fred's Fish Fry in San Antonio. It's a running gag (actually believed by many) that it's a drug or money laundering front. In reality, it's basically fast food seafood. Though the only things I've ever seen anyone get are fish fillets or fish fillet sandwiches, and they definitely look like regular frozen fish fillets. You also never see many cars out front. Usually just one, maaaaybe two if it's busy.\n",
      "--------------------------------------------------\n",
      "Last week a massage parlor two blocks from my house got shut down for giving happy endings.\n",
      "--------------------------------------------------\n",
      "I can’t remember the name of the Chinese restaurant but me and my gf went to a place once because we were in the area and had just moved to town and we walk into this buffet style place. There’s 2 other parties of people sitting inside eating. And maybe 2 servers working the counter and floor.. we walked in and the second we did everyone looked at us like “what are you doing here” and we continued to get those looks by the other customers every couple minutes while we were there. When we left we both said the same thing. “Do you think that’s a front for money laundering or something?”\n",
      "--------------------------------------------------\n",
      "I live in a super rural area and there is a vape shop the next town over that only keeps like 5-6 nicotine products but is all in on weed/thc stuff. They service a town of less than 2000 (in a very red/anti-weed area of the state) and are dealing with massive competition in either direction from their exact location. It is run owned by an elderly asian man, they always have an extra staff member that acts like a bouncer to the \"back room\", and there is a painting of a big tiddy'd anime girl that is visible from the road on one wall. No one is *ever* in there and the only times I've been in, the only thing I was able to purchase was a tangerine flavored vape juice that no where in 100 miles carries, but they only had it... twice.\n",
      "\n",
      "If they're *not* doing something illegal, I don't know how they are possibly making money.\n",
      "--------------------------------------------------\n",
      "2 sonic restaurants within an hour of where I live have been shut down for selling meth.\n",
      "--------------------------------------------------\n",
      "When I was living in New Jersey, there was a hoagie place that was always a little sus. It was cash only, a favorite of the local cops, and everyone who worked there were the most Sopranos-ass motherfuckers you’d ever meet. It had all sorts of groceries and ingredients from Italy and in the center was the deli counter. But what was weirdest was it had a ton of signs like [this](https://www.safetysign.com/images/source/large-images/F8110.png) which is an extremely strange thing to find in New Jersey (I think it has the lowest gun ownership in the country?).\n",
      "\n",
      "Then, one day the entire business disappears overnight with no warning and everyone related to it disappears. Everyone in the area was talking about it and no one had any idea what happened.\n",
      "\n",
      "What sucks is they made the best damn Italian hoagie I’ve ever had in my life. And #2 is *not* close. I weep for those hoagies. :’(\n",
      "--------------------------------------------------\n",
      "There was a caving supply store across the road from me and i dont think i even noticed anyone ever go in or come out of it with in the 5 years i lived in that flat haha\n",
      "--------------------------------------------------\n",
      "There was a gas station in town when I was in college that was always around $2 more per gallon that anyplace else in town, all of the other places very conveniently located. They still had cars pulling through all the time. I’m assuming drugs.\n",
      "--------------------------------------------------\n",
      "Mattress stores. \n",
      "\n",
      "Never see anyone at them. It's suspisciously suspiscious.\n",
      "--------------------------------------------------\n",
      "Diego’s Videos in the downtown area of my city…. Blockbuster is out of business but Diego’s Videos is still going strong????\n",
      "--------------------------------------------------\n",
      "We have a non-profit located next to a mariscos restaurant. They're consistently empty in a place that would require large amounts of rent. They have the only access to the roof on the block. \n",
      "\n",
      "When trying to fix our AC the manager threatened to beat us with a wrench for entering their kitchen to use the ladder after the owner gave permission and notice. \n",
      "\n",
      "Absolute front.\n",
      "--------------------------------------------------\n",
      "I have a vacuum cleaner repair shop a block from my apartment. Never been inside, never see anyone going inside. Like who repairs vacuums anymore .. Dont people just buy a new one? Reminds me of Breaking Bad\n",
      "--------------------------------------------------\n",
      "Los pollos Hermanos\n",
      "\n",
      "Ok jokes aside - in germany their are tonnes of matress-shops that are 100% money laundering\n",
      "--------------------------------------------------\n",
      "Literally all the late night massage parlours. \n",
      "\n",
      "I live in the burbs of Melbourne, and every few blocks there is a massage parlour open until midnight. There must be a dozen within a square kilometre, and that's not uncommon in all the surrounding suburbs too. There's probably a few hundred on this side of the city, maybe thousands. \n",
      "\n",
      "I find it really hard to believe that a shire of about 150,000 can support 100 massage parlours, considering that about 40,000 would be kids, and even if they're doing the rub n tug business model, that'd mean every man in the area would have to go once a week for them to clear enough money to pay rent and staff (as in it'd be about 600 men per parlour).\n",
      "\n",
      "I'm just assuming that the books say they had clients booked all day, every day, who all paid top price in cash, and that's what they tell the tax man to launder the money.\n",
      "\n",
      "Ditto for some of the 24 hour gyms. About 20 in the same area, some of which never seem to have anyone in them.\n",
      "--------------------------------------------------\n",
      "Whos keeping long john silvers in business!\n",
      "--------------------------------------------------\n",
      "There was a little pizza joint in my hometown that we were fairly sure was a front for something. It was one of the only places that stayed open past midnight and they always seemed vaguely surprised that someone would actually come in and order pizza. Was honestly pretty decent stuff, too. \n",
      "\n",
      "There was also a different pizza joint whose owner was involved in smuggling arms to the Middle East, but the restaurant wasn’t really a front as such.\n",
      "--------------------------------------------------\n",
      "There's this one vacuum place in Arlington Texas my brother and I are convinced is a front for a drug smuggling ring. There's never any cars in the parking lot and all the vacuums hanging in the front glass on display are all bag vacuums from the 80's and 90's. It's called Evan's Vacuum (my brother just texted me the name, big W)\n",
      "--------------------------------------------------\n",
      "There's an old 'general repair' shop at the end of my street that reeks of dope when you walk past it and has sus looking guys walking in and out of it all through the night. Frosted glass too so you can't see fuck all lol\n",
      "--------------------------------------------------\n",
      "In Ireland every second shop is a vape or phone repair shop. Only accept cash but will happily sell you what you need if you want to be able to take card\n",
      "--------------------------------------------------\n",
      "We, a county (not town) of 20,000 people, have a pizza place open 4-8 (or when they run out of dough) Thursday-Sunday. They are currently on hiatus indefinitely- I think they've cleaned their money.\n",
      "--------------------------------------------------\n",
      "The oxygen bar down the street. \n",
      "\n",
      "What is the 90s?\n",
      "\n",
      "I never see anyone in it, going in it, or anywhere near it\n",
      "--------------------------------------------------\n",
      "There are two bars selling only cans and bottles of extremely expensive imported beer near me. I’ve never seen a single customer in either of them and when a mate and I went to check one out the man behind the bar was suddenly ‘just closing’.\n",
      "--------------------------------------------------\n",
      "The state of Delaware\n",
      "--------------------------------------------------\n",
      "None\n",
      "--------------------------------------------------\n"
     ]
    }
   ],
   "source": [
    "# get all top level comments\n",
    "\n",
    "#data[1].get(\"data\").get(\"children\")[LOOP].get(\"data\").get('body')\n",
    "\n",
    "for comment_idx in range(len(data[1].get(\"data\").get(\"children\"))):\n",
    "    print(data[1].get(\"data\").get(\"children\")[comment_idx].get(\"data\").get('body'))\n",
    "    print('-'* 50)"
   ]
  },
  {
   "cell_type": "code",
   "execution_count": 8,
   "metadata": {},
   "outputs": [
    {
     "name": "stdout",
     "output_type": "stream",
     "text": [
      "289\n",
      "--------------------------------------------------\n"
     ]
    }
   ],
   "source": [
    "# get all top level comments\n",
    "\n",
    "#data[1].get(\"data\").get(\"children\")[LOOP].get(\"data\").get('body')\n",
    "\n",
    "for comment_idx in range(len(data[1].get(\"data\").get(\"children\"))):\n",
    "    print(data[1].get(\"data\").get(\"children\")[comment_idx].get(\"data\").get('score'))\n",
    "    print('-'* 50)\n",
    "    break"
   ]
  },
  {
   "cell_type": "code",
   "execution_count": 19,
   "metadata": {},
   "outputs": [
    {
     "ename": "NameError",
     "evalue": "name 'logging' is not defined",
     "output_type": "error",
     "traceback": [
      "\u001b[1;31m---------------------------------------------------------------------------\u001b[0m",
      "\u001b[1;31mNameError\u001b[0m                                 Traceback (most recent call last)",
      "\u001b[1;32m~\\AppData\\Local\\Temp/ipykernel_20596/1631171430.py\u001b[0m in \u001b[0;36m<module>\u001b[1;34m\u001b[0m\n\u001b[0;32m      8\u001b[0m \u001b[1;33m\u001b[0m\u001b[0m\n\u001b[0;32m      9\u001b[0m     \u001b[0mcurrent_comment\u001b[0m \u001b[1;33m=\u001b[0m \u001b[0mdata\u001b[0m\u001b[1;33m[\u001b[0m\u001b[1;36m1\u001b[0m\u001b[1;33m]\u001b[0m\u001b[1;33m.\u001b[0m\u001b[0mget\u001b[0m\u001b[1;33m(\u001b[0m\u001b[1;34m\"data\"\u001b[0m\u001b[1;33m)\u001b[0m\u001b[1;33m.\u001b[0m\u001b[0mget\u001b[0m\u001b[1;33m(\u001b[0m\u001b[1;34m\"children\"\u001b[0m\u001b[1;33m)\u001b[0m\u001b[1;33m[\u001b[0m\u001b[0mcomment_idx\u001b[0m\u001b[1;33m]\u001b[0m\u001b[1;33m.\u001b[0m\u001b[0mget\u001b[0m\u001b[1;33m(\u001b[0m\u001b[1;34m\"data\"\u001b[0m\u001b[1;33m)\u001b[0m\u001b[1;33m\u001b[0m\u001b[1;33m\u001b[0m\u001b[0m\n\u001b[1;32m---> 10\u001b[1;33m     \u001b[0mlogging\u001b[0m\u001b[1;33m.\u001b[0m\u001b[0minfo\u001b[0m\u001b[1;33m(\u001b[0m\u001b[0mdata\u001b[0m\u001b[1;33m[\u001b[0m\u001b[1;36m1\u001b[0m\u001b[1;33m]\u001b[0m\u001b[1;33m.\u001b[0m\u001b[0mget\u001b[0m\u001b[1;33m(\u001b[0m\u001b[1;34m\"data\"\u001b[0m\u001b[1;33m)\u001b[0m\u001b[1;33m.\u001b[0m\u001b[0mget\u001b[0m\u001b[1;33m(\u001b[0m\u001b[1;34m\"children\"\u001b[0m\u001b[1;33m)\u001b[0m\u001b[1;33m[\u001b[0m\u001b[0mcomment_idx\u001b[0m\u001b[1;33m]\u001b[0m\u001b[1;33m.\u001b[0m\u001b[0mget\u001b[0m\u001b[1;33m(\u001b[0m\u001b[1;34m\"data\"\u001b[0m\u001b[1;33m)\u001b[0m\u001b[1;33m.\u001b[0m\u001b[0mget\u001b[0m\u001b[1;33m(\u001b[0m\u001b[1;34m\"author\"\u001b[0m\u001b[1;33m)\u001b[0m\u001b[1;33m)\u001b[0m\u001b[1;33m\u001b[0m\u001b[1;33m\u001b[0m\u001b[0m\n\u001b[0m\u001b[0;32m     11\u001b[0m     \u001b[0mlogging\u001b[0m\u001b[1;33m.\u001b[0m\u001b[0minfo\u001b[0m\u001b[1;33m(\u001b[0m\u001b[0mdata\u001b[0m\u001b[1;33m[\u001b[0m\u001b[1;36m1\u001b[0m\u001b[1;33m]\u001b[0m\u001b[1;33m.\u001b[0m\u001b[0mget\u001b[0m\u001b[1;33m(\u001b[0m\u001b[1;34m\"data\"\u001b[0m\u001b[1;33m)\u001b[0m\u001b[1;33m.\u001b[0m\u001b[0mget\u001b[0m\u001b[1;33m(\u001b[0m\u001b[1;34m\"children\"\u001b[0m\u001b[1;33m)\u001b[0m\u001b[1;33m[\u001b[0m\u001b[0mcomment_idx\u001b[0m\u001b[1;33m]\u001b[0m\u001b[1;33m.\u001b[0m\u001b[0mget\u001b[0m\u001b[1;33m(\u001b[0m\u001b[1;34m\"data\"\u001b[0m\u001b[1;33m)\u001b[0m\u001b[1;33m.\u001b[0m\u001b[0mget\u001b[0m\u001b[1;33m(\u001b[0m\u001b[1;34m\"body\"\u001b[0m\u001b[1;33m)\u001b[0m\u001b[1;33m)\u001b[0m\u001b[1;33m\u001b[0m\u001b[1;33m\u001b[0m\u001b[0m\n\u001b[0;32m     12\u001b[0m     \u001b[0mlogging\u001b[0m\u001b[1;33m.\u001b[0m\u001b[0minfo\u001b[0m\u001b[1;33m(\u001b[0m\u001b[0mdata\u001b[0m\u001b[1;33m[\u001b[0m\u001b[1;36m1\u001b[0m\u001b[1;33m]\u001b[0m\u001b[1;33m.\u001b[0m\u001b[0mget\u001b[0m\u001b[1;33m(\u001b[0m\u001b[1;34m\"data\"\u001b[0m\u001b[1;33m)\u001b[0m\u001b[1;33m.\u001b[0m\u001b[0mget\u001b[0m\u001b[1;33m(\u001b[0m\u001b[1;34m\"children\"\u001b[0m\u001b[1;33m)\u001b[0m\u001b[1;33m[\u001b[0m\u001b[0mcomment_idx\u001b[0m\u001b[1;33m]\u001b[0m\u001b[1;33m.\u001b[0m\u001b[0mget\u001b[0m\u001b[1;33m(\u001b[0m\u001b[1;34m\"data\"\u001b[0m\u001b[1;33m)\u001b[0m\u001b[1;33m.\u001b[0m\u001b[0mget\u001b[0m\u001b[1;33m(\u001b[0m\u001b[1;34m\"permalink\"\u001b[0m\u001b[1;33m)\u001b[0m\u001b[1;33m)\u001b[0m\u001b[1;33m\u001b[0m\u001b[1;33m\u001b[0m\u001b[0m\n",
      "\u001b[1;31mNameError\u001b[0m: name 'logging' is not defined"
     ]
    }
   ],
   "source": [
    "# get all top level comments\n",
    "\n",
    "#data[1].get(\"data\").get(\"children\")[LOOP].get(\"data\").get('body')\n",
    "\n",
    "comments_df = pd.DataFrame(columns=['author', 'text', 'permalink', 'score'])\n",
    "\n",
    "for comment_idx in range(len(data[1].get(\"data\").get(\"children\"))):\n",
    "\n",
    "    current_comment = data[1].get(\"data\").get(\"children\")[comment_idx].get(\"data\")\n",
    "    logging.info(data[1].get(\"data\").get(\"children\")[comment_idx].get(\"data\").get(\"author\"))\n",
    "    logging.info(data[1].get(\"data\").get(\"children\")[comment_idx].get(\"data\").get(\"body\"))\n",
    "    logging.info(data[1].get(\"data\").get(\"children\")[comment_idx].get(\"data\").get(\"permalink\"))\n",
    "    logging.info(data[1].get(\"data\").get(\"children\")[comment_idx].get(\"data\").get(\"score\"))\n",
    "\n",
    "    comments_df = comments_df.append({'author': current_comment.get(\"author\"),\n",
    "                                        'text': current_comment.get(\"body\"),\n",
    "                                        'permalink': current_comment.get(\"permalink\"),\n",
    "                                        'score': current_comment.get(\"score\")}, ignore_index=True)"
   ]
  },
  {
   "cell_type": "markdown",
   "metadata": {},
   "source": [
    "## fields to get\n",
    "- comment type\n",
    "- subreddit\n",
    "- author\n",
    "- permalink!\n",
    "- link_id?"
   ]
  }
 ],
 "metadata": {
  "kernelspec": {
   "display_name": "Python 3",
   "language": "python",
   "name": "python3"
  },
  "language_info": {
   "codemirror_mode": {
    "name": "ipython",
    "version": 3
   },
   "file_extension": ".py",
   "mimetype": "text/x-python",
   "name": "python",
   "nbconvert_exporter": "python",
   "pygments_lexer": "ipython3",
   "version": "3.9.6"
  }
 },
 "nbformat": 4,
 "nbformat_minor": 2
}
